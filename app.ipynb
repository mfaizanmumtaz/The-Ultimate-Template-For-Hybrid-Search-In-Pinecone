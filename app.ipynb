{
 "cells": [
  {
   "cell_type": "code",
   "execution_count": null,
   "metadata": {},
   "outputs": [],
   "source": [
    "from langchain_pinecone import PineconeVectorStore\n",
    "from pinecone import Pinecone, ServerlessSpec\n",
    "from langchain_openai import OpenAIEmbeddings\n",
    "from langchain_community.retrievers import (\n",
    "    PineconeHybridSearchRetriever,\n",
    ")\n",
    "from pinecone_text.sparse import BM25Encoder\n",
    "import time\n",
    "import os\n",
    "from dotenv import load_dotenv\n",
    "\n",
    "load_dotenv()\n",
    "\n",
    "pinecone_api_key = os.getenv(\"PINECONE_API_KEY\")\n",
    "openai_api_key = os.getenv(\"OPENAI_API_KEY\")\n",
    "\n",
    "embeddings = OpenAIEmbeddings(model=\"text-embedding-3-small\", openai_api_key=openai_api_key)\n",
    "\n",
    "class manage_index:\n",
    "    def __init__(self, api_key):\n",
    "        self.pc = Pinecone(api_key=api_key)\n",
    "\n",
    "    def create_index(self, index_name, dimensions):\n",
    "        existing_indexes = [index_info[\"name\"] for index_info in self.pc.list_indexes()]\n",
    "        if index_name not in existing_indexes:\n",
    "            print(f\"Creating index {index_name}\")\n",
    "            self.pc.create_index(\n",
    "                name=index_name,\n",
    "                dimension=dimensions,\n",
    "                metric=\"dotproduct\",\n",
    "                spec=ServerlessSpec(cloud=\"aws\", region=\"us-east-1\"),\n",
    "            )\n",
    "            while not self.pc.describe_index(index_name).status[\"ready\"]:\n",
    "                time.sleep(1)\n",
    "\n",
    "            print(f\"Index {index_name} created successfully\")\n",
    "        else:\n",
    "            print(f\"Index {index_name} already exists\")\n",
    "\n",
    "    def retrieve_index(self, index_name, embeddings, namespace=None):\n",
    "        existing_indexes = [index_info[\"name\"] for index_info in self.pc.list_indexes()]\n",
    "        if namespace is not None:\n",
    "            try:\n",
    "                if index_name in existing_indexes:\n",
    "                    vector_store = PineconeVectorStore(index=self.get_index(index_name), embedding=embeddings, namespace=namespace)\n",
    "                    print(f\"From {index_name} index with namespace {namespace} retrieved successfully\")\n",
    "                    return vector_store\n",
    "                else:\n",
    "                    print(f\"Index {index_name} does not exist\")\n",
    "            except Exception as e:\n",
    "                print(f\"Error retrieving index {index_name}: {e}\")\n",
    "        else:\n",
    "            try:\n",
    "                if index_name in existing_indexes:\n",
    "                    vector_store = PineconeVectorStore(index=self.get_index(index_name), embedding=embeddings)\n",
    "                    print(f\"Index {index_name} retrieved successfully\")\n",
    "                    return vector_store\n",
    "                else:\n",
    "                    print(f\"Index {index_name} does not exist\")\n",
    "            except Exception as e:\n",
    "                print(f\"Error retrieving index {index_name}: {e}\")\n",
    "\n",
    "    def list_indexes(self):\n",
    "        existing_indexes = [index_info[\"name\"] for index_info in self.pc.list_indexes()]\n",
    "        return existing_indexes\n",
    "\n",
    "    def delete_index(self, index_name):\n",
    "        existing_indexes = [index_info[\"name\"] for index_info in self.pc.list_indexes()]\n",
    "        if index_name in existing_indexes:\n",
    "            self.pc.delete_index(index_name)\n",
    "            print(f\"Index {index_name} deleted successfully\")\n",
    "        else:\n",
    "            print(f\"Index {index_name} does not exist\")\n",
    "\n",
    "    def get_index(self, index_name):\n",
    "        existing_indexes = [index_info[\"name\"] for index_info in self.pc.list_indexes()]\n",
    "        if index_name in existing_indexes:\n",
    "            return self.pc.Index(index_name)\n",
    "        else:\n",
    "            print(f\"Index {index_name} does not exist\")\n",
    "\n",
    "\n",
    "handler = manage_index(pinecone_api_key)\n",
    "print(handler.list_indexes())\n",
    "handler.create_index(\"faizan\", len(embeddings.embed_query(\"HI\")))\n",
    "# index = handler.retrieve_index(\"faizan\", embeddings)\n",
    "# handler.delete_index(\"faizan\")\n",
    "get_index = handler.get_index(\"faizan\")"
   ]
  },
  {
   "cell_type": "code",
   "execution_count": null,
   "metadata": {},
   "outputs": [],
   "source": [
    "import nltk\n",
    "nltk.download('punkt_tab')"
   ]
  },
  {
   "cell_type": "code",
   "execution_count": 47,
   "metadata": {},
   "outputs": [],
   "source": [
    "bm25_encoder = BM25Encoder().default()\n",
    "\n",
    "retriever = PineconeHybridSearchRetriever(\n",
    "    embeddings=embeddings, sparse_encoder=bm25_encoder, index=get_index\n",
    ")"
   ]
  },
  {
   "cell_type": "code",
   "execution_count": null,
   "metadata": {},
   "outputs": [],
   "source": [
    "retriever.add_texts([\"Hi\", \"Hello\", \"World\", \"Hello World\"])"
   ]
  },
  {
   "cell_type": "code",
   "execution_count": null,
   "metadata": {},
   "outputs": [],
   "source": [
    "result = retriever.invoke(\"HI\")\n",
    "print(result)"
   ]
  }
 ],
 "metadata": {
  "kernelspec": {
   "display_name": "Python 3",
   "language": "python",
   "name": "python3"
  },
  "language_info": {
   "codemirror_mode": {
    "name": "ipython",
    "version": 3
   },
   "file_extension": ".py",
   "mimetype": "text/x-python",
   "name": "python",
   "nbconvert_exporter": "python",
   "pygments_lexer": "ipython3",
   "version": "3.11.10"
  }
 },
 "nbformat": 4,
 "nbformat_minor": 2
}
